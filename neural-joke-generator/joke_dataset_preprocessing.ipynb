{
 "cells": [
  {
   "cell_type": "code",
   "execution_count": 1,
   "metadata": {},
   "outputs": [],
   "source": [
    "import json\n",
    "import csv\n",
    "import pandas as pd\n",
    "import math"
   ]
  },
  {
   "cell_type": "markdown",
   "metadata": {},
   "source": [
    "# Creating datasets for finetuning scenarios"
   ]
  },
  {
   "cell_type": "code",
   "execution_count": 13,
   "metadata": {},
   "outputs": [],
   "source": [
    "from os import listdir\n",
    "from os.path import isfile, join\n",
    "path = 'data/jokes_delimited/'"
   ]
  },
  {
   "cell_type": "markdown",
   "metadata": {},
   "source": [
    "## Scenario 1: all jokes"
   ]
  },
  {
   "cell_type": "code",
   "execution_count": 15,
   "metadata": {},
   "outputs": [],
   "source": [
    "files = [f for f in listdir(path) if isfile(join(path, f)) and f.endswith(\".txt\")]\n",
    "outfile = 'data/training_data/s1_all_jokes.txt'\n",
    "merge_files(files,outfile)"
   ]
  },
  {
   "cell_type": "code",
   "execution_count": 16,
   "metadata": {},
   "outputs": [
    {
     "data": {
      "text/plain": [
       "['stupidstuff_delimited.txt',\n",
       " 'reddit_delimited.txt',\n",
       " 'wocka_delimited.txt',\n",
       " 'joke-db_delimited.txt',\n",
       " 'QA_jokes_delimited.txt',\n",
       " 'funjokes_delimited.txt']"
      ]
     },
     "execution_count": 16,
     "metadata": {},
     "output_type": "execute_result"
    }
   ],
   "source": [
    "files"
   ]
  },
  {
   "cell_type": "markdown",
   "metadata": {},
   "source": [
    "## Scenario 2: QA-jokes"
   ]
  },
  {
   "cell_type": "code",
   "execution_count": 18,
   "metadata": {},
   "outputs": [
    {
     "data": {
      "text/plain": [
       "'Number of jokes in data/training_data/s2_qa_jokes.txt: 38270'"
      ]
     },
     "execution_count": 18,
     "metadata": {},
     "output_type": "execute_result"
    }
   ],
   "source": [
    "files = ['QA_jokes_delimited.txt']\n",
    "outfile = 'data/training_data/s2_qa_jokes.txt'\n",
    "merge_files(files,outfile)\n",
    "get_sample_size(outfile)"
   ]
  },
  {
   "cell_type": "markdown",
   "metadata": {},
   "source": [
    "## Scenario 3: Curated jokes"
   ]
  },
  {
   "cell_type": "code",
   "execution_count": 19,
   "metadata": {},
   "outputs": [
    {
     "data": {
      "text/plain": [
       "'Number of jokes in data/training_data/s3_curated_jokes.txt: 28472'"
      ]
     },
     "execution_count": 19,
     "metadata": {},
     "output_type": "execute_result"
    }
   ],
   "source": [
    "files = ['stupidstuff_delimited.txt','wocka_delimited.txt', 'joke-db_delimited.txt', 'funjokes_delimited.txt' ]\n",
    "outfile = 'data/training_data/s3_curated_jokes.txt'\n",
    "merge_files(files,outfile)\n",
    "get_sample_size(outfile)"
   ]
  },
  {
   "cell_type": "code",
   "execution_count": 10,
   "metadata": {},
   "outputs": [],
   "source": [
    "def merge_files(file_list,outfile):\n",
    "    all_jokes = \"\"\n",
    "    for file in files: \n",
    "        with open(path+file, 'r') as file:\n",
    "            data = file.read()\n",
    "            all_jokes = all_jokes + data\n",
    "    with open(outfile,'w') as file:\n",
    "        file.write(all_jokes) "
   ]
  },
  {
   "cell_type": "code",
   "execution_count": 11,
   "metadata": {},
   "outputs": [],
   "source": [
    "def get_sample_size(filename):\n",
    "    with open(filename, 'r') as file:\n",
    "        data = file.read()\n",
    "    jokes = data.split('$$$$$')\n",
    "    msg = 'Number of jokes in ' + filename + ': ' + str(len(jokes))\n",
    "    return msg\n",
    "    "
   ]
  },
  {
   "cell_type": "markdown",
   "metadata": {},
   "source": [
    "# Creating sub-collections"
   ]
  },
  {
   "cell_type": "markdown",
   "metadata": {},
   "source": [
    "## Reddit jokes (Pungas 2017)"
   ]
  },
  {
   "cell_type": "code",
   "execution_count": 26,
   "metadata": {},
   "outputs": [
    {
     "name": "stdout",
     "output_type": "stream",
     "text": [
      "Jokes saved as data/jokes_delimited/reddit_delimited.txt\n"
     ]
    },
    {
     "data": {
      "text/plain": [
       "194553"
      ]
     },
     "execution_count": 26,
     "metadata": {},
     "output_type": "execute_result"
    }
   ],
   "source": [
    "file = 'data/raw_data/reddit_jokes_taivop.json'\n",
    "name = 'reddit'\n",
    "json_to_txt(file,name,True)"
   ]
  },
  {
   "cell_type": "markdown",
   "metadata": {},
   "source": [
    "## Wocka.com (Pungas 2017)"
   ]
  },
  {
   "cell_type": "code",
   "execution_count": 28,
   "metadata": {},
   "outputs": [
    {
     "name": "stdout",
     "output_type": "stream",
     "text": [
      "Jokes saved as data/jokes_delimited/wocka_delimited.txt\n"
     ]
    },
    {
     "data": {
      "text/plain": [
       "10019"
      ]
     },
     "execution_count": 28,
     "metadata": {},
     "output_type": "execute_result"
    }
   ],
   "source": [
    "file = 'data/raw_data/wocka_taivop.json'\n",
    "name = 'wocka'\n",
    "json_to_txt(file,name,True)"
   ]
  },
  {
   "cell_type": "markdown",
   "metadata": {},
   "source": [
    "## stupidstuff.org (Pungas 2017)"
   ]
  },
  {
   "cell_type": "code",
   "execution_count": 30,
   "metadata": {},
   "outputs": [
    {
     "name": "stdout",
     "output_type": "stream",
     "text": [
      "Jokes saved as data/jokes_delimited/stupidstuff_delimited.txt\n"
     ]
    },
    {
     "data": {
      "text/plain": [
       "3773"
      ]
     },
     "execution_count": 30,
     "metadata": {},
     "output_type": "execute_result"
    }
   ],
   "source": [
    "file = 'data/raw_data/stupidstuff_taivop.json'\n",
    "name = 'stupidstuff'\n",
    "json_to_txt(file,name,True)"
   ]
  },
  {
   "cell_type": "markdown",
   "metadata": {},
   "source": [
    "## funjokes (Moudgil 2017)"
   ]
  },
  {
   "cell_type": "code",
   "execution_count": 31,
   "metadata": {},
   "outputs": [
    {
     "name": "stdout",
     "output_type": "stream",
     "text": [
      "Jokes saved as data/jokes_delimited/funjokes_delimited.txt\n"
     ]
    },
    {
     "data": {
      "text/plain": [
       "9985"
      ]
     },
     "execution_count": 31,
     "metadata": {},
     "output_type": "execute_result"
    }
   ],
   "source": [
    "file = 'data/raw_data/funjokes_amoudgl.csv'\n",
    "name = 'funjokes'\n",
    "csv_to_txt(file,name,True)"
   ]
  },
  {
   "cell_type": "markdown",
   "metadata": {},
   "source": [
    "## jokedb (Moudgil 2017)"
   ]
  },
  {
   "cell_type": "code",
   "execution_count": 32,
   "metadata": {},
   "outputs": [
    {
     "name": "stdout",
     "output_type": "stream",
     "text": [
      "Jokes saved as data/jokes_delimited/joke-db_delimited.txt\n"
     ]
    },
    {
     "data": {
      "text/plain": [
       "4694"
      ]
     },
     "execution_count": 32,
     "metadata": {},
     "output_type": "execute_result"
    }
   ],
   "source": [
    "file = 'data/raw_data/joke-db_amoudgl.csv'\n",
    "name = 'joke-db'\n",
    "csv_to_txt(file,name,True)"
   ]
  },
  {
   "cell_type": "markdown",
   "metadata": {},
   "source": [
    "## Q&A Jokes (Roznovjak 2017)"
   ]
  },
  {
   "cell_type": "markdown",
   "metadata": {},
   "source": [
    "### Preprocess Q&A-jokes"
   ]
  },
  {
   "cell_type": "code",
   "execution_count": 33,
   "metadata": {},
   "outputs": [],
   "source": [
    "file = 'data/raw_data/QA_jokes.csv' \n",
    "df = pd.read_csv(file, index_col='ID')\n",
    "df[\"body\"] = df[\"Question\"].map(str) + ' ' + df[\"Answer\"]\n",
    "df = df.drop(['Question', 'Answer'], axis =1)\n",
    "json_file = 'data/raw_data/QA_jokes.json'\n",
    "df.to_json(json_file, orient=\"records\")"
   ]
  },
  {
   "cell_type": "code",
   "execution_count": 34,
   "metadata": {},
   "outputs": [
    {
     "name": "stdout",
     "output_type": "stream",
     "text": [
      "Jokes saved as data/jokes_delimited/QA_jokes_delimited.txt\n"
     ]
    },
    {
     "data": {
      "text/plain": [
       "38269"
      ]
     },
     "execution_count": 34,
     "metadata": {},
     "output_type": "execute_result"
    }
   ],
   "source": [
    "file = 'data/raw_data/QA_jokes.json'\n",
    "name = 'QA_jokes'\n",
    "json_to_txt(file,name,True)"
   ]
  },
  {
   "cell_type": "markdown",
   "metadata": {},
   "source": [
    "## Joke length statistics"
   ]
  },
  {
   "cell_type": "code",
   "execution_count": 35,
   "metadata": {},
   "outputs": [],
   "source": [
    "from os import listdir\n",
    "from os.path import isfile, join\n",
    "path = 'data/jokes_delimited/'\n",
    "files = [f for f in listdir(path) if isfile(join(path, f)) and f.endswith(\".txt\")]"
   ]
  },
  {
   "cell_type": "code",
   "execution_count": 36,
   "metadata": {},
   "outputs": [
    {
     "name": "stdout",
     "output_type": "stream",
     "text": [
      "stupidstuff_delimited.txt: 582\n",
      "reddit_delimited.txt: 211\n",
      "wocka_delimited.txt: 616\n",
      "joke-db_delimited.txt: 531\n",
      "QA_jokes_delimited.txt: 90\n",
      "funjokes_delimited.txt: 200\n"
     ]
    }
   ],
   "source": [
    "for file in files:\n",
    "    avg_joke_len = get_avg_joke_length(path + file)\n",
    "    print(file + \": \" + str(avg_joke_len))"
   ]
  },
  {
   "cell_type": "code",
   "execution_count": 25,
   "metadata": {},
   "outputs": [],
   "source": [
    "def get_avg_joke_length(file):\n",
    "    with open(file, 'r') as file:\n",
    "        data = file.read()\n",
    "    total_len = len(data)    \n",
    "    jokes = data.split(\"$$$$$\")\n",
    "    num_jokes = len(jokes)\n",
    "    avg_joke_len = math.floor(total_len/num_jokes)  \n",
    "    return avg_joke_len   \n",
    "        "
   ]
  },
  {
   "cell_type": "code",
   "execution_count": 37,
   "metadata": {},
   "outputs": [
    {
     "data": {
      "text/plain": [
       "200"
      ]
     },
     "execution_count": 37,
     "metadata": {},
     "output_type": "execute_result"
    }
   ],
   "source": [
    "get_avg_joke_length('data/jokes_delimited/funjokes_delimited.txt')"
   ]
  },
  {
   "cell_type": "code",
   "execution_count": 23,
   "metadata": {},
   "outputs": [],
   "source": [
    "# returns number of jokes\n",
    "\n",
    "def json_to_txt(file,name,put_delimiter):\n",
    "    with open(file, \"r\") as file:\n",
    "        raw_json = json.load(file)\n",
    "    all_jokes= ''\n",
    "    joke_count = 0\n",
    "    for j in range(len(raw_json)):\n",
    "        body = raw_json[j]['body']\n",
    "        if put_delimiter == True:\n",
    "            body = body + ' $$$$$ '\n",
    "        else: \n",
    "            body = body + \" \"\n",
    "        joke_count = joke_count + 1   \n",
    "        all_jokes = all_jokes + body\n",
    "    if put_delimiter == True:\n",
    "        outfile = 'data/jokes_delimited/' + name + '_delimited.txt'\n",
    "    else:\n",
    "        outfile = 'data/jokes_not_delimited/' + name + '_not_delimited.txt'  \n",
    "    try: \n",
    "        with open(outfile, \"w\") as text_file:\n",
    "            text_file.write(all_jokes)\n",
    "        print(\"Jokes saved as \" + outfile)\n",
    "    except:\n",
    "        print(\"Could not save jokes.\")    \n",
    "    return joke_count  "
   ]
  },
  {
   "cell_type": "code",
   "execution_count": 24,
   "metadata": {},
   "outputs": [],
   "source": [
    "def csv_to_txt(file,name,put_delimiter):\n",
    "    df = pd.read_csv(file, index_col='ID')\n",
    "    df.columns=['body']\n",
    "    json_file = 'data/raw_data/' + name + '.json'\n",
    "    #with open(json_file, \"w+\") as output_file:\n",
    "        #output_file.write(df.toJSON())\n",
    "    df.to_json('data/raw_data/' + name + '.json', orient=\"records\")\n",
    "    joke_count = json_to_txt(json_file,name,put_delimiter)\n",
    "    return joke_count"
   ]
  },
  {
   "cell_type": "code",
   "execution_count": 97,
   "metadata": {},
   "outputs": [],
   "source": [
    "for i in range(len(files)):\n",
    "    df = pd.read_csv(files[i], index_col='ID')\n",
    "    df.columns=['body'] \n",
    "    df.to_json(prefix + filenames[i] +'.json', orient=\"records\")\n",
    "    json_list.append(prefix + filenames[i] +'.json')\n"
   ]
  },
  {
   "cell_type": "code",
   "execution_count": 98,
   "metadata": {},
   "outputs": [],
   "source": [
    "taivop_data = [\"stupidstuff\", \"reddit_jokes\", \"wocka\"]\n",
    "for item in taivop_data:\n",
    "    json_list.append(prefix + item + '.json')\n",
    "filenames = filenames + taivop_data    "
   ]
  },
  {
   "cell_type": "code",
   "execution_count": 101,
   "metadata": {},
   "outputs": [
    {
     "data": {
      "text/plain": [
       "['../data/funjokes.json',\n",
       " '../data/funnytweeter.json',\n",
       " '../data/funtweets.json',\n",
       " '../data/joke-db.json',\n",
       " '../data/stupidstuff.json',\n",
       " '../data/reddit_jokes.json',\n",
       " '../data/wocka.json']"
      ]
     },
     "execution_count": 101,
     "metadata": {},
     "output_type": "execute_result"
    }
   ],
   "source": [
    "json_list"
   ]
  },
  {
   "cell_type": "code",
   "execution_count": 99,
   "metadata": {},
   "outputs": [],
   "source": [
    "all_jokes= ''\n",
    "joke_count = 0\n",
    "for i in range(len(json_list)):\n",
    "    with open(json_list[i], \"r\") as file:\n",
    "        rawa_json = json.load(file)\n",
    "        for j in range(len(raw_json)):\n",
    "            body = raw_json[j]['body']\n",
    "            body = body + ' $$$$$ '\n",
    "            joke_count = joke_count + 1\n",
    "            all_jokes = all_jokes + body\n",
    "            "
   ]
  },
  {
   "cell_type": "code",
   "execution_count": 100,
   "metadata": {},
   "outputs": [
    {
     "data": {
      "text/plain": [
       "70133"
      ]
     },
     "execution_count": 100,
     "metadata": {},
     "output_type": "execute_result"
    }
   ],
   "source": [
    "joke_count"
   ]
  },
  {
   "cell_type": "code",
   "execution_count": 102,
   "metadata": {},
   "outputs": [],
   "source": [
    "with open(\"all_jokes.txt\", \"w\") as text_file:\n",
    "    text_file.write(all_jokes)"
   ]
  },
  {
   "cell_type": "code",
   "execution_count": 14,
   "metadata": {},
   "outputs": [],
   "source": [
    "all_jokes= ''\n",
    "for i in range(len(reddit_jokes)):\n",
    "    body = reddit_jokes[i]['body']\n",
    "    body = body + ' $$$$$ '\n",
    "    all_jokes = all_jokes + body\n",
    "for i in range(len(stupidstuff)):    \n",
    "    body = stupidstuff[i]['body']\n",
    "    body = body + ' $$$$$ '\n",
    "    all_jokes = all_jokes + body\n",
    "for i in range(len(wocka)):\n",
    "    body = wocka[i]['body']\n",
    "    body = body + ' $$$$$ '\n",
    "    all_jokes = all_jokes + body    \n",
    "    "
   ]
  },
  {
   "cell_type": "code",
   "execution_count": null,
   "metadata": {},
   "outputs": [],
   "source": []
  }
 ],
 "metadata": {
  "kernelspec": {
   "display_name": "Python 3",
   "language": "python",
   "name": "python3"
  },
  "language_info": {
   "codemirror_mode": {
    "name": "ipython",
    "version": 3
   },
   "file_extension": ".py",
   "mimetype": "text/x-python",
   "name": "python",
   "nbconvert_exporter": "python",
   "pygments_lexer": "ipython3",
   "version": "3.6.4"
  }
 },
 "nbformat": 4,
 "nbformat_minor": 2
}
